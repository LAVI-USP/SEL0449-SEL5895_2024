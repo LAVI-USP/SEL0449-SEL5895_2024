{
  "cells": [
    {
      "cell_type": "markdown",
      "metadata": {
        "id": "kGlmyFQMaR-U"
      },
      "source": [
        "# Lista de Exercício 6\n",
        "### Introdução ao Processamento Digital de Imagens (SEL0449/SEL5895)\n",
        "\n",
        "**Instruções:**\n",
        "\n",
        " 1. Esta lista consiste em 5 exercícios. O peso considerado para a nota final da lista está descrito ao lado do enunciado.\n",
        " 1. Deve-se colocar comentários nos códigos desenvolvidos.\n",
        " 1. As perguntas devem ser respondidas também como comentários no arquivo.\n",
        " 1. Colocar seu nome e número USP abaixo.\n",
        " 1. Quaisquer problemas na execução das listas, entrar em contato com os monitores.\n",
        " 1. Não retirar os enunciados da lista.\n",
        " 1. Depois de terminados os exercícios, deve ser gerado um arquivo **extensão .ipynb** para ser enviado ao professor pelo E-DISCIPLINAS da disciplina até a data máxima de entrega.\n",
        " 1. Caso não seja enviado, o aluno ficará sem nota.\n",
        "\n",
        "\n",
        "---\n",
        "\n",
        "\n",
        "\n",
        " <table class=\"tfo-notebook-buttons\" align=\"left\">\n",
        "  <td>\n",
        "    <a target=\"_blank\" href=\"https://colab.research.google.com/github/LAVI-USP/SEL0449-SEL5895_2024/blob/main/praticas/Lista_de_Exercicio_6.ipynb\"><img src=\"https://www.tensorflow.org/images/colab_logo_32px.png\" />Executar no Google Colab</a>\n",
        "  </td>\n",
        "  <td>\n",
        "    <a target=\"_blank\" href=\"https://github.com/LAVI-USP/SEL0449-SEL5895_2024/blob/main/praticas/Lista_de_Exercicio_6.ipynb\"><img src=\"https://www.tensorflow.org/images/GitHub-Mark-32px.png\" />Ver codigo fonte no GitHub</a>\n",
        "  </td>\n",
        "</table>\n"
      ]
    },
    {
      "cell_type": "markdown",
      "metadata": {
        "id": "L3qYz1dB-tlT"
      },
      "source": [
        "`Nome: `\n",
        "\n",
        "`Número USP: `"
      ]
    },
    {
      "cell_type": "markdown",
      "metadata": {
        "id": "b9uBe7nevota"
      },
      "source": [
        "### Introdução:\n",
        "\n",
        "Nesta lista de exercícios vamos estudar sobre filtros aplicados no domínio da frequência. Primeiramente vamos importar as bibliotecas que iremos utilizar:"
      ]
    },
    {
      "cell_type": "code",
      "execution_count": 1,
      "metadata": {
        "id": "xnKV2As4aCX1"
      },
      "outputs": [],
      "source": [
        "import numpy as np\n",
        "import matplotlib.pyplot as plt\n",
        "import cv2 as cv\n",
        "from mpl_toolkits import mplot3d"
      ]
    },
    {
      "cell_type": "markdown",
      "metadata": {
        "id": "NyvxHviMpShq"
      },
      "source": [
        "#### **Atenção**: os códigos abaixo são para fazer o download das imagens necessárias para a prática. EXECUTE-OS!"
      ]
    },
    {
      "cell_type": "code",
      "execution_count": 2,
      "metadata": {
        "id": "Amk5CM273Afp"
      },
      "outputs": [],
      "source": [
        "import urllib.request\n",
        "\n",
        "try:\n",
        "  urllib.request.urlretrieve(\"https://github.com/LAVI-USP/SEL0449-SEL5895_2024/blob/main/imagens/pratica_06/towerbridge.tif?raw=true\", \"towerbridge.tif\")\n",
        "except:\n",
        "  print(\"[ERRO] Não foi possível fazer o download das imagens dessa prática. Entre em contato com o monitor\")\n",
        "\n",
        "try:\n",
        "  urllib.request.urlretrieve(\"https://github.com/LAVI-USP/SEL0449-SEL5895_2024/blob/main/imagens/pratica_06/arvore_mod.tif?raw=true\", \"arvore_mod.tif\")\n",
        "except:\n",
        "  print(\"[ERRO] Não foi possível fazer o download das imagens dessa prática. Entre em contato com o monitor\")\n",
        "\n",
        "try:\n",
        "  urllib.request.urlretrieve(\"https://github.com/LAVI-USP/SEL0449-SEL5895_2024/raw/main/imagens/pratica_06/hill.tif\", \"hill.tif\")\n",
        "except:\n",
        "  print(\"[ERRO] Não foi possível fazer o download das imagens dessa prática. Entre em contato com o monitor\")\n",
        "\n",
        "try:\n",
        "  urllib.request.urlretrieve(\"https://github.com/LAVI-USP/SEL0449-SEL5895_2024/raw/main/imagens/pratica_06/hiIzt.png\", \"car.png\")\n",
        "except:\n",
        "  print(\"[ERRO] Não foi possível fazer o download das imagens dessa prática. Entre em contato com o monitor\")\n",
        "\n",
        "try:\n",
        "  urllib.request.urlretrieve(\"https://github.com/LAVI-USP/SEL0449-SEL5895_2024/raw/main/imagens/pratica_06/parede.tif\", \"parede.tif\")\n",
        "except:\n",
        "  print(\"[ERRO] Não foi possível fazer o download das imagens dessa prática. Entre em contato com o monitor\")"
      ]
    },
    {
      "cell_type": "markdown",
      "metadata": {
        "id": "RDSMJOwBvL3u"
      },
      "source": [
        "### PARTE I - Filtragem no domínio da frequência\n",
        "\n",
        "A filtragem no domínio da frequência consiste em modificar a transformada de Fourier de uma imagem e depois calcular a transformada inversa para obter o resultado processado.\n",
        "\n",
        "O grau de dificuldade na construção dos filtros diminui quando se trabalha no domínio da frequência, entretanto, a proximidade dos períodos na convolução pode causar o erro de wraparound (efeito de borda). Para solucionar esse problema, é necessário fazer um padding na imagem - lembrando que algoritmos DFT tendem a executar mais rapidamente arranjos de tamanho par, ou seja, normalmente se utiliza o dobro das dimensões M e N da imagem. As Figuras 1 e 2 ilustram os efeitos provocados, no borramento da imagem, tanto devido a não utilização de padding quanto da aplicação zero padding.\n",
        "\n",
        "Lembre-se que, afim de preservar informações sobre as bordas, normalmente utiliza-se do padding simétrico, e não o padding com zeros.\n",
        "\n",
        "\n",
        "<center><img src=\"https://github.com/LAVI-USP/SEL0449-SEL5895_2024/blob/main/imagens/pratica_06/wraparound.PNG?raw=true\" style=\"width:836px;height:266px;\"></center>\n",
        "\n",
        "<center><caption><b> Figura 1:</b> Periodicidade inerente às imagens 2D na utilização da DFT.</b></caption></center>\n",
        "<caption><center> Referência: Gonzalez and Woods, Digital Image Processing 3rd.</center></caption></br>\n",
        "\n",
        "\n",
        "<center><img src=\"https://github.com/LAVI-USP/SEL0449-SEL5895_2024/blob/main/imagens/pratica_06/wraparound_0.PNG?raw=true\" style=\"width:836px;height:266px;\"></center>\n",
        "\n",
        "<center><caption><b> Figura 2:</b> Em b, resultado do borramento de a sem zero padding. Em c, resultado do borramento de a com zero padding. </b></caption></center>\n",
        "<caption><center> Referência: Gonzalez and Woods, Digital Image Processing 3rd.</center></caption></br>\n",
        "\n",
        "A função [np.fft.ff2](https://numpy.org/doc/stable/reference/generated/numpy.fft.fft2.html) - utilizada na lista anterior - oferece, por meio do parâmetro s, a opção de preenchimento (padding), sendo (Mf,Nf) normalmente igual a (2M, 2N) tal que M e N representam as dimensões da imagem. Para mais detalhes, consulte a documentação.\n",
        "\n",
        "```python\n",
        "f = np.fft.fft2(img,s=(Mf,Nf))\n",
        "fshift = np.fft.fftshift(f)\n",
        "magnitude_spectrum = 20*np.log(np.abs(fshift)+1.)\n",
        "```\n",
        "\n",
        "Atenção! Note as novas dimensões do espectro de frequência. Após a transformada inversa, será necessário recortar a imagem, resultando na imagem com as dimensões originais M e N, descartando as informações adjacentes."
      ]
    },
    {
      "cell_type": "markdown",
      "source": [],
      "metadata": {
        "id": "Qm7yU-b_Pf5o"
      }
    },
    {
      "cell_type": "markdown",
      "metadata": {
        "id": "ppupxqIr71zm"
      },
      "source": [
        "### 1) Filtros PASSA-BAIXA E PASSA-ALTA no domínio da frequência (Nota: 2.5/10.0)\n",
        "\n",
        "Bordas e outras transições abruptas de intensidade (como o ruído) em uma imagem contribuem significativamente para o conteúdo de alta frequência de sua transformada de Fourier. Dessa forma, a suavização (borramento) é obtida no domínio da frequência pela atenuação das altas frequências - filtros passa-baixa.\n",
        "\n",
        "Os filtros podem ser projetados de forma a apresentar transições mais abruptas ou mais suavizadas. Consideraremos apenas os filtros radialmente simétricos - deslocamento de fase zero - sendo D<sub>0</sub> o raio a partir da origem e n a ordem do filtro:\n",
        "<p></br>\n",
        "\n",
        "Filtro passa-baixa IDEAL:\n",
        "\n",
        "$$ H_{LPideal}(u,v) = 1,~se~D(u,v)~\\le~D0$$<br/>\n",
        "$$ H_{LPideal}(u,v) = 0,~se~D(u,v)~\\gt~D0$$<br/>\n",
        "\n",
        "Filtro passa-baixa BUTTERWORTH:\n",
        "\n",
        "$$ H_{LPButterworth}(u,v) = \\frac{1}{{1+\\big[\\frac{D(u,v)}{D_0}}\\big]^{2n}}$$<br/>\n",
        "\n",
        "Filtro passa-baixa GAUSSIANO:\n",
        "\n",
        "$$ H_{LPGaussiano}(u,v) = e^{\\frac{-D^2(u,v)}{2D_0^2}}$$<br/>\n",
        "\n",
        "Já o aguçamento das imagens pode ser obtido pela filtragem passa-alta, atenuando componentes de baixa frequência sem afetar as informações de alta frequência na transformada de Fourier. Os filtros passa-alta podem ser obtidos a partir dos respectivos passa-baixa, considerando a equação:\n",
        "\n",
        "$$ H_{HP}(u,v) = 1 - H_{LP}(u,v)$$<br/>\n",
        "\n",
        "\n",
        "**DICA:** para visualizar os filtros em plots 3D, você pode utilizar o toolkit já incluso na instalação da biblioteca matplotlib (incluso na importação inicial deste notebook). Para isto, é necessário manipular os dados do filtro, de forma que seja construída uma rede X-Y (contendo as coordenadas) em que serão plotadas as intensidades (Z). Considere um filtro de dimensões Mf e Nf e intensidades I. Para criar a rede, podemos utilizar o comando [np.linspace](https://numpy.org/doc/stable/reference/generated/numpy.linspace.html) tendo o 0 (zero) como valor inicial, Mf como valor final e com número de amostras equivalente a Mf. Da mesma forma com Nf.\n",
        "\n",
        "A seguir, um exemplo de subplot utilizando a função plot_wireframe e plot_surface. Consulte o [link](https://matplotlib.org/stable/tutorials/toolkits/mplot3d.html) para mais detalhes.\n",
        "\n",
        "```python\n",
        "x = np.linspace(0, Mf, Mf)\n",
        "y = np.linspace(0, Nf, Nf)\n",
        "\n",
        "X, Y = np.meshgrid(x, y)\n",
        "Z = I\n",
        "\n",
        "fig = plt.figure(figsize = (20,10))\n",
        "fig.suptitle('Filtros 3D')\n",
        "\n",
        "ax = fig.add_subplot(1, 2, 1, projection='3d')\n",
        "ax.plot_wireframe(X,Y,Z)\n",
        "ax.set_xlabel('x')\n",
        "ax.set_ylabel('y')\n",
        "ax.set_zlabel('z');\n",
        "ax.set_title('wireframe plot');\n",
        "\n",
        "ax = fig.add_subplot(1, 2, 2, projection='3d')\n",
        "ax.plot_surface(X, Y, Z, rstride=2, cstride=2,cmap='viridis', edgecolor='none')\n",
        "ax.set_xlabel('x')\n",
        "ax.set_ylabel('y')\n",
        "ax.set_zlabel('z');\n",
        "ax.set_title('surface plot');\n",
        "\n",
        "plt.show()\n",
        "```"
      ]
    },
    {
      "cell_type": "markdown",
      "metadata": {
        "id": "3wfqGqAhHKBA"
      },
      "source": [
        "\n",
        "**Exercício.** Considerando que a imagem 'towerbridge.tif' foi digitalizada com **resolução de 300DPI**, realize as seguintes tarefas:\n",
        "\n",
        "**a.** Visualize a imagem original e o espectro de Fourier (domínio da frequência). **Lembre-se do padding.**"
      ]
    },
    {
      "cell_type": "code",
      "execution_count": null,
      "metadata": {
        "id": "Jv-lRHbqG9Cw"
      },
      "outputs": [],
      "source": [
        "## -- Seu código começa AQUI -- ##\n",
        "\n",
        "\n",
        "## -- Seu código termina AQUI -- ##"
      ]
    },
    {
      "cell_type": "markdown",
      "metadata": {
        "id": "WWbdOv6GHCoH"
      },
      "source": [
        "\n",
        "**b.** Crie um filtro **passa-baixa circular do tipo \"Ideal\"** com frequência de corte igual a 1,7 ciclos/mm. Aplicar à imagem e comentar o resultado. Mostre a imagem original, a magnitude do filtro criado, a imagem filtrada e o espectro de frequências filtrado."
      ]
    },
    {
      "cell_type": "code",
      "execution_count": null,
      "metadata": {
        "id": "oJ8XJXhNHOpp"
      },
      "outputs": [],
      "source": [
        "## -- Seu código começa AQUI -- ##\n",
        "\n",
        "## -- Seu código termina AQUI -- ##"
      ]
    },
    {
      "cell_type": "markdown",
      "metadata": {
        "id": "lJFB1mF0HE2-"
      },
      "source": [
        "**c.** Crie um filtro **passa-baixa circular do tipo \"Butterworth\"** com n=2 e frequência de corte igual a 1,7 ciclos/mm. Aplicar à imagem e comentar o resultado.  Mostre a imagem original, a magnitude do filtro criado, a imagem filtrada e o espectro de frequências filtrado."
      ]
    },
    {
      "cell_type": "code",
      "execution_count": null,
      "metadata": {
        "id": "Y23X9qzEHPUO"
      },
      "outputs": [],
      "source": [
        "## -- Seu código começa AQUI -- ##\n",
        "\n",
        "## -- Seu código termina AQUI -- ##"
      ]
    },
    {
      "cell_type": "markdown",
      "metadata": {
        "id": "nf02DDVKHGeQ"
      },
      "source": [
        "**d.** Crie um filtro **passa-baixa circular do tipo \"Gaussiano\"** com frequência de corte igual a 1,7 ciclos/mm. Aplicar à imagem e comentar o resultado.  Mostre a imagem original, a magnitude do filtro criado, a imagem filtrada e o espectro de frequências filtrado."
      ]
    },
    {
      "cell_type": "code",
      "execution_count": null,
      "metadata": {
        "id": "ruL620nxHQAB"
      },
      "outputs": [],
      "source": [
        "## -- Seu código começa AQUI -- ##\n",
        "\n",
        "## -- Seu código termina AQUI -- ##"
      ]
    },
    {
      "cell_type": "markdown",
      "metadata": {
        "id": "i1Y69GEcHIS4"
      },
      "source": [
        "**e.** Crie os **filtros passa-alta** com as mesmas frequências de corte e características especificadas em b, c e d. Em cada um, mostre a imagem original, a magnitude do filtro criado, a imagem filtrada e o espectro de frequências filtrado."
      ]
    },
    {
      "cell_type": "code",
      "execution_count": null,
      "metadata": {
        "id": "GLH9SbfwHQug"
      },
      "outputs": [],
      "source": [
        "## -- Seu código começa AQUI -- ##\n",
        "\n",
        "## -- Seu código termina AQUI -- ##"
      ]
    },
    {
      "cell_type": "code",
      "execution_count": null,
      "metadata": {
        "id": "Vpnl8QPoXo-a"
      },
      "outputs": [],
      "source": [
        "## -- Seu código começa AQUI -- ##\n",
        "\n",
        "## -- Seu código termina AQUI -- ##"
      ]
    },
    {
      "cell_type": "code",
      "execution_count": null,
      "metadata": {
        "id": "qrpl7Yy7XpdY"
      },
      "outputs": [],
      "source": [
        "## -- Seu código começa AQUI -- ##\n",
        "\n",
        "## -- Seu código termina AQUI -- ##"
      ]
    },
    {
      "cell_type": "code",
      "execution_count": null,
      "metadata": {
        "id": "qFzhQXpxZlQL"
      },
      "outputs": [],
      "source": [
        "# COMENTÁRIOS:\n",
        "#"
      ]
    },
    {
      "cell_type": "markdown",
      "metadata": {
        "id": "5Hgd8p2OHKPQ"
      },
      "source": [
        "**f.** Visualize os filtros PASSA-BAIXA e PASSA-ALTA criados (nos itens acima) em plots 3D (Wireframe e Surface)."
      ]
    },
    {
      "cell_type": "code",
      "execution_count": null,
      "metadata": {
        "id": "6rU_SHMDVzu3"
      },
      "outputs": [],
      "source": [
        "## FILTROS IDEAIS\n",
        "## -- Seu código começa AQUI -- ##\n",
        "\n",
        "## -- Seu código termina AQUI -- ##"
      ]
    },
    {
      "cell_type": "code",
      "execution_count": null,
      "metadata": {
        "id": "Idms5AtR9B5A"
      },
      "outputs": [],
      "source": [
        "## FILTROS BUTTERWORTH\n",
        "## -- Seu código começa AQUI -- ##\n",
        "\n",
        "## -- Seu código termina AQUI -- ##"
      ]
    },
    {
      "cell_type": "code",
      "execution_count": null,
      "metadata": {
        "id": "n7DNw951-jPf"
      },
      "outputs": [],
      "source": [
        "## FILTROS GAUSSIANO\n",
        "## -- Seu código começa AQUI -- ##\n",
        "\n",
        "## -- Seu código termina AQUI -- ##"
      ]
    },
    {
      "cell_type": "markdown",
      "metadata": {
        "id": "OcMh8xfE_EDX"
      },
      "source": [
        "### 2) Filtros PASSA-BANDA E REJEITA-BANDA no domínio da frequência (Nota: 2.5/10.0)\n",
        "\n",
        "Existem algumas aplicações nas quais é interessante processar bandas específicas de frequências. Para tanto, utiliza-se filtros conhecidos como filtros rejeita-banda e passa-banda. Assim como mostrado anteriormente, a transição pode ser feita de modo abrupto ou suavizado. As equações a seguir referem-se a filtros rejeita-banda (BR de *bandreject*):\n",
        "\n",
        "Filtro rejeita-baixa IDEAL:\n",
        "\n",
        "$$ H_{BRideal}(u,v) = 0, \\;se\\;D_0 - \\frac{W}{2} \\le D \\le D_0 + \\frac{W}{2}$$<br/>\n",
        "$$ H_{BRideal}(u,v) = 1,\\; para\\;todos\\;outros\\;casos$$<br/>\n",
        "\n",
        "Filtro rejeita-baixa BUTTERWORTH:\n",
        "\n",
        "$$ H_{BRButterworth}(u,v) = \\frac{1}{1+\\big[\\frac{D \\cdot W}{D^2-D_0^2}\\big]^{2n}}$$<br/>\n",
        "\n",
        "Filtro rejeita-baixa GAUSSIANO:\n",
        "\n",
        "$$ H_{BRGaussiano}(u,v) = 1-e^{-\\big(\\frac{D^2-D_0^2}{D \\cdot W}\\big)^2}$$<br/>\n",
        "\n",
        "\n",
        "Um filtro passa-banda (BP de *bandpass*) é obtido a partir do respectivo rejeita-banda, conforme equação abaixo:\n",
        "\n",
        "$$ H_{BP}(u,v) = 1 - H_{BR}(u,v)$$<br/>\n",
        "\n"
      ]
    },
    {
      "cell_type": "markdown",
      "metadata": {
        "id": "EUt2eEZTGWqf"
      },
      "source": [
        "**Exercício.** Considerando que a imagem 'arvore_mod.tif' foi digitalizada com **resolução de 400DPI**, realize as seguintes tarefas:\n",
        "\n",
        "**a.** Visualize a imagem original e o espectro de Fourier (domínio da frequência). **Lembre-se do padding.**"
      ]
    },
    {
      "cell_type": "code",
      "execution_count": null,
      "metadata": {
        "id": "_a0jI6T9Y4qg"
      },
      "outputs": [],
      "source": [
        "## -- Seu código começa AQUI -- ##\n",
        "\n",
        "## -- Seu código termina AQUI -- ##"
      ]
    },
    {
      "cell_type": "markdown",
      "metadata": {
        "id": "hstSCB-JavJS"
      },
      "source": [
        "**b.** Encontre o centro do espectro de frequências. Plote um recorte central. Encontre o tamanho de recorte que permita melhor visualização dos pontos mais evidentes simétricos em relação ao centro."
      ]
    },
    {
      "cell_type": "code",
      "execution_count": null,
      "metadata": {
        "id": "WngxV4Xna7Mj"
      },
      "outputs": [],
      "source": [
        "## -- Seu código começa AQUI -- ##\n",
        "\n",
        "## -- Seu código termina AQUI -- ##"
      ]
    },
    {
      "cell_type": "markdown",
      "metadata": {
        "id": "Lc5YbFa5Y48m"
      },
      "source": [
        "\n",
        "**c.** Crie um **filtro rejeita-banda circular do tipo \"ideal\"** para ser aplicado à imagem. Os parâmetros de frequência de corte em ciclos/mm e a largura de banda em ciclos/mm devem ser escolhidos preservando ao máximo o conteúdo da imagem. Utilize a referência do exercício \"b\" para auxiliar na escolha dos parâmetros e comente justificando.\n",
        "\n",
        "Crie um **filtro passa-banda circular do tipo \"ideal\"** com os mesmos parâmetros de frequência de corte para visualizar as componentes removidas.\n",
        "\n",
        "Comente o resultado obtido."
      ]
    },
    {
      "cell_type": "code",
      "execution_count": null,
      "metadata": {
        "id": "T7UQb806Zaeg"
      },
      "outputs": [],
      "source": [
        "## -- Seu código começa AQUI -- ##\n",
        "\n",
        "## -- Seu código termina AQUI -- ##\n",
        "\n",
        "# Comentários:"
      ]
    },
    {
      "cell_type": "markdown",
      "metadata": {
        "id": "EUASa6d1grLb"
      },
      "source": [
        "**d.** Visualize os filtros PASSA-BANDA e REJEITA-BANDA criados em plots 3D (Wireframe e Surface)."
      ]
    },
    {
      "cell_type": "code",
      "execution_count": null,
      "metadata": {
        "id": "7ijwVq_bieYM"
      },
      "outputs": [],
      "source": [
        "## FILTROS IDEAIS\n",
        "## -- Seu código começa AQUI -- ##\n",
        "\n",
        "## -- Seu código termina AQUI -- ##"
      ]
    },
    {
      "cell_type": "markdown",
      "source": [
        "### PARTE II - Outros filtros no domínio da frequência\n",
        "\n",
        "Vamos, agora, estudar sobre alguns filtros que podem ser aplicados no domínio da frequência visando melhorar a qualidade das imagens. Lembre-se que o sistemas de coordenadas no domínio da frequência é um pouco diferente:\n",
        "\n",
        "<center><img src=\"https://github.com/LAVI-USP/SEL0449-SEL5895_2024/raw/main/imagens/pratica_06/ExemploCoordenadas.png\" ></center>\n",
        "\n",
        "<center><caption><b>Figura 1:</b> Sistemas de coordenadas no domínio original da imagem (esquerda) e domínio de Fourie (direita).</b></caption></center>"
      ],
      "metadata": {
        "id": "xNlSjTtHJRRr"
      }
    },
    {
      "cell_type": "markdown",
      "source": [
        "### 3) Filtro notch reject (Nota: 1.5/10.0):\n",
        "\n",
        "Em qual situação devo utilizar um filtro notch? Filtros notch são frequentemente utilizados para rastrear e retirar componentes senoidais de sinais. Nas imagens isto não é diferente.\n",
        "\n",
        "Filtragem notch reject é usada para eliminar efeitos de ruídos periódicos. Estes filtros são capazes de rejeitar regiões específicas em torno de uma\n",
        "frequência pré-definida, assim, sua utilização é recomendada quando o sinal a ser atenuado é bem definido.\n",
        "\n",
        "<center><img src=\"https://github.com/LAVI-USP/SEL0449-SEL5895_2024/raw/main/imagens/pratica_06/ExemploFiltroNotch2.png\" width=\"380\" height=\"380\"></center>\n",
        "\n",
        "<center><caption><b> Figura 2:</b> Exemplo de filtragem com Notch em ruído periódico.</b></caption></center>\n",
        "<caption><center> </center></caption>\n",
        "\n",
        "**Exercício:**\n",
        "\n",
        "Nesta etapa, vamos trabalhar com a imagem ```car.png```. Considere que a imagem foi digitalizada com resolução de 400 DPI.\n",
        "\n",
        "1. Carregue o arquivo de imagem ```car.png``` e mostre-a.\n",
        "2. Passe esta imagem para o domínio da frequência (Espectro de Fourier) utilizando as funções ```np.fft.fft2``` e ```np.fft.fftshift``` (**Lembre-se do padding.**). Em seguida, mostre a magnitude do espectro.\n",
        "3. Para visualizar e compreender melhor, vamos dar um \"zoom\" na imagem no domínio da frequência. Selecione a região ```[0:800,200:360]``` e mostre o resultado desse corte. Comente o que são os \"pontos brancos mais evidentes\" no espectro.\n",
        "4.  Faça um filtro do tipo notch reject butterworth de ordem ```ord = 4``` com raio ```D0 = 9``` para remover o ruído da seguinte forma:\n",
        " *   4 pontos mais próximos do centro do espectro\n",
        "     *   Encontre o centro dos \"pontos brancos\" mais próximo ao centro do espectro (pode ser de forma empírica/visual)\n",
        "     *   Crie o filtro com base no centro desses 4 pontos encontrados\n",
        " *   8 pontos mais próximos do centro do espectro\n",
        "     *   Encontre o centro dos \"pontos brancos\" mais próximo ao centro do espectro (pode ser de forma empírica/visual)\n",
        "     *   Crie o filtro com base no centro desses 8 pontos encontrados\n",
        "\n",
        " Os centros do filtro devem coincidir com o centro dos pontos encontrados no\n",
        "espectro da frequência.\n",
        "\n",
        "5. Para cada situação, moste a magnitude do filtro criado. Após aplicação do filtro construído, mostre, também, a magnitude do espectro de Fourier resultante, bem como a imagem filtrada, agora, em seu domínio original.\n",
        "6. Comente os resultados\n"
      ],
      "metadata": {
        "id": "09Yl4u7pKJsm"
      }
    },
    {
      "cell_type": "code",
      "source": [
        "## -- Seu código começa AQUI -- ##\n",
        "\n",
        "## -- Seu código termina AQUI -- ##\n",
        "\n",
        "## Comentários:"
      ],
      "metadata": {
        "id": "9Z-ACmj9MEdk"
      },
      "execution_count": null,
      "outputs": []
    },
    {
      "cell_type": "markdown",
      "source": [
        "### 4) Realce (Nota: 1.5/10.0):\n",
        "\n",
        "Nesta parte da lista iremos trabalhar com o filtro de realce. Para isso, utilizaremos a imagem ```parede.tif```. Considere que a imagem foi digitalizada com resolução de 500 DPI.\n",
        "Dica: Como este filtro realça principamente os detalhes, é interessante analisar as imagens sempre com ZOOM!\n",
        "\n",
        "1. Carregue a imagem “parede.tif” e mostre-a.\n",
        "2. Visualizar a imagem no domínio da frequência (Espectro de Fourier). **Lembre-se do padding.**\n",
        "4. Criar um filtro de realce (30%), utilizando passa-alta do tipo “Butterworth” (n = 2), com frequência de corte 3,0 ciclos/mm. Aplicar na imagem e verificar o resultado.\n",
        "5. Criar um filtro do tipo \"Gaussiano\", no domínio da frequência, que realce em 40% todas as frequências entre 2,0 e 4,0 ciclos/mm. Aplicar na imagem e verificar o resultado no domínio do espaço."
      ],
      "metadata": {
        "id": "N0is4fX3MFUG"
      }
    },
    {
      "cell_type": "code",
      "source": [
        "## -- Seu código começa AQUI -- ##\n",
        "\n",
        "## -- Seu código termina AQUI -- ##"
      ],
      "metadata": {
        "id": "iqc1pyK7MWHJ"
      },
      "execution_count": null,
      "outputs": []
    },
    {
      "cell_type": "markdown",
      "source": [
        "### 5) Filtragem Homomórfica (Nota: 2.0/10.0)\n",
        "\n",
        "Agora vamos trabalhar o realce corrigindo uma imagem com iluminação não uniforme. Para isso, vamos trabalhar com a figura \"***hill.tif***\". Considere que essa imagem foi digitalizada com resolução de 300 DPI.\n",
        "\n",
        "1. Carregue o arquivo de imagem ```hill.tif``` e mostre-a.\n",
        "2. Aplique uma correção Logarítmica à imagem original a fim de fazer uma correção de contraste. *Dica: após essa correção, converta a imagem_Log para float32*.\n",
        "3. Construa padding simétrico (espelhamento) para eliminar o efeito de *wrap around*. Para fazer isso, utilize a função ```np.pad```.\n",
        "4. Agora, vamos passar a imagem com *padding* para o domínio da frequência e visualizar o espectro de frequências.\n",
        "5. Em seguida, crie um filtro do tipo homomórfico, com ```γL = 0,5``` e ```γH = 1,5```, com variação Gaussiana e com frequência de corte de 2,5 ciclos/mm e aplique na imagem. Mostre o filtro construido.\n",
        "6. Aplique o filtro homomórfico criado sobre a imagem no domínio da frequência.\n",
        "7. Aplique a transformada inversa para retornar a imagem ao domínio original.\n",
        "8. Aplique uma correção exponencial (```np.exp```) para corrigir a transformação logarítmica no início. Por fim, faça um alargamento de contraste sobre a imagem filtrada no domínio original e mostre-a.\n",
        "9. Comentar os resultados encontrados após aplicação dos filtros.\n"
      ],
      "metadata": {
        "id": "9JltxXJoOQ3Q"
      }
    },
    {
      "cell_type": "code",
      "source": [
        "## -- Seu código começa AQUI -- ##\n",
        "\n",
        "## -- Seu código termina AQUI -- ##\n",
        "\n",
        "## Comentários:"
      ],
      "metadata": {
        "id": "bVoXq6-vOZLT"
      },
      "execution_count": null,
      "outputs": []
    }
  ],
  "metadata": {
    "colab": {
      "collapsed_sections": [
        "NyvxHviMpShq"
      ],
      "provenance": []
    },
    "kernelspec": {
      "display_name": "Python 3",
      "name": "python3"
    }
  },
  "nbformat": 4,
  "nbformat_minor": 0
}
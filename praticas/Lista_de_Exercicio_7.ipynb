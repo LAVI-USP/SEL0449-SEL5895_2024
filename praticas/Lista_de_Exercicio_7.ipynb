{
  "nbformat": 4,
  "nbformat_minor": 0,
  "metadata": {
    "colab": {
      "provenance": [],
      "collapsed_sections": [
        "NyvxHviMpShq"
      ]
    },
    "kernelspec": {
      "display_name": "Python 3",
      "language": "python",
      "name": "python3"
    },
    "language_info": {
      "codemirror_mode": {
        "name": "ipython",
        "version": 3
      },
      "file_extension": ".py",
      "mimetype": "text/x-python",
      "name": "python",
      "nbconvert_exporter": "python",
      "pygments_lexer": "ipython3",
      "version": "3.7.7"
    }
  },
  "cells": [
    {
      "cell_type": "markdown",
      "metadata": {
        "id": "kGlmyFQMaR-U"
      },
      "source": [
        "# Lista de Exercício 7\n",
        "### Processamento Digital de Imagens (SEL0449/SEL5895)\n",
        "\n",
        "**Instruções:**\n",
        "\n",
        " 1. Esta lista consiste em 3 exercícios.\n",
        " 1. Deve-se colocar comentários nos códigos desenvolvidos.\n",
        " 1. As perguntas devem ser respondidas também como comentários no arquivo.\n",
        " 1. Colocar seu nome e número USP abaixo.\n",
        " 1. Quaisquer problemas na execução das listas, entrar em contato com os monitores.\n",
        " 1. Depois de terminado os exercícios, deve ser gerado um arquivo **extensão .ipynb** para ser enviado ao professor pelo E-DISCIPLINAS da disciplina até a data máxima de entrega.\n",
        " 1. Caso não seja enviado, o aluno ficará sem nota.\n",
        "\n",
        "\n",
        "---\n",
        "\n",
        "\n",
        "\n",
        " <table class=\"tfo-notebook-buttons\" align=\"left\">\n",
        "  <td>\n",
        "    <a target=\"_blank\" href=\"https://colab.research.google.com/github/LAVI-USP/SEL0449-SEL5895_2024/blob/main/praticas/Lista_de_Exercicio_7.ipynb\"><img src=\"https://www.tensorflow.org/images/colab_logo_32px.png\" />Executar no Google Colab</a>\n",
        "  </td>\n",
        "  <td>\n",
        "    <a target=\"_blank\" href=\"https://github.com/LAVI-USP/SEL0449-SEL5895_2024/blob/main/praticas/Lista_de_Exercicio_7.ipynb\"><img src=\"https://www.tensorflow.org/images/GitHub-Mark-32px.png\" />Ver codigo fonte no GitHub</a>\n",
        "  </td>\n",
        "</table>\n"
      ]
    },
    {
      "cell_type": "markdown",
      "metadata": {
        "id": "L3qYz1dB-tlT"
      },
      "source": [
        "`Nome: `\n",
        "\n",
        "`Número USP: `"
      ]
    },
    {
      "cell_type": "markdown",
      "metadata": {
        "id": "b9uBe7nevota"
      },
      "source": [
        "### Introdução:\n",
        "\n",
        "Vamos importar as bibliotecas que utilizaremos durante essa prática!"
      ]
    },
    {
      "cell_type": "code",
      "metadata": {
        "id": "xnKV2As4aCX1"
      },
      "source": [
        "import numpy as np\n",
        "import matplotlib.pyplot as plt\n",
        "import cv2 as cv\n",
        "import cmath\n",
        "from scipy.io import loadmat"
      ],
      "execution_count": 20,
      "outputs": []
    },
    {
      "cell_type": "markdown",
      "metadata": {
        "id": "NyvxHviMpShq"
      },
      "source": [
        "#### **Atenção**: os códigos abaixo são para fazer o download das imagens (EXECUTE-OS). Os mesmos não fazem parte dessa prática."
      ]
    },
    {
      "cell_type": "code",
      "metadata": {
        "id": "Amk5CM273Afp"
      },
      "source": [
        "import urllib.request\n",
        "\n",
        "try:\n",
        "  urllib.request.urlretrieve(\"https://github.com/LAVI-USP/SEL0449-SEL5895_2024/raw/main/imagens/pratica_07/img_degrau.tif\", \"img_degrau.tif\")\n",
        "except:\n",
        "  print(\"[ERRO] Não foi possível fazer o download das imagens dessa prática. Entre em contato com o monitor\")\n",
        "\n",
        "try:\n",
        "  urllib.request.urlretrieve(\"https://github.com/LAVI-USP/SEL0449-SEL5895_2024/raw/main/imagens/pratica_07/atleta.tif\", \"atleta.tif\")\n",
        "except:\n",
        "  print(\"[ERRO] Não foi possível fazer o download das imagens dessa prática. Entre em contato com o monitor\")\n",
        "\n",
        "try:\n",
        "  urllib.request.urlretrieve(\"https://github.com/LAVI-USP/SEL0449-SEL5895_2024/raw/main/imagens/pratica_07/H.mat\", \"H.mat\")\n",
        "except:\n",
        "  print(\"[ERRO] Não foi possível fazer o download das imagens dessa prática. Entre em contato com o monitor\")\n"
      ],
      "execution_count": 8,
      "outputs": []
    },
    {
      "cell_type": "markdown",
      "metadata": {
        "id": "GHX9Y9sfpbmd"
      },
      "source": [
        "### 1) Filtragem do ruído não dependente do sinal (3.0/10.0)\n",
        "\n",
        "Nesta prática, iremos trabalhar um tipo de degração conhecida como ruído. De início, discutiremos sobre um ruído não dependende do sinal. Um dos exemplos desta categoria é o ruído Gaussiano.\n",
        "\n",
        "<center><img src=\"https://github.com/LAVI-USP/SEL0449-SEL5895_2024/raw/main/imagens/pratica_07/ruidoGaussiano.gif\" style=\"width:836px;height:266px;\" width=\"980\" height=\"300\"></center>\n",
        "\n",
        "<center><caption><b> Figura 1:</b> Imgens degradadas com diferentes níveis de ruído Gaussiano.</b></caption></center>\n",
        "\n",
        "As principais fontes de ruídos gaussianos em imagens digitais estão relacionados ao ruído térmico durante a aquisição. Em processamento de imagens digitais, o ruído gaussiano pode ser reduzido utilizando-se técnicas de filtros espaciais, que suavizam os ruídos contidos na imagem, com a desvantagem de borrá-la.\n",
        "\n",
        "1.1) Para analisar as características dessa degradação, vamos utilizar uma imagem degrau com diferentes níveis de cinza. Siga os passos abaixo:\n",
        "\n",
        "1. Carregue a imagem \"img_degrau.tif\".\n",
        "2. Agora vamos inserir ruído na imagem com desvio padrão = 7. Para isso vamos usar uma função de nome ``` InsertNoiseAWGN``` . Já disponibilizamos o escopo da função e uma descrição das entradas e saídas. Comente o que cada linha da função está exercendo.\n",
        "3. Mostre, lado a lado, a imagem original, a imagem degradada (ruidosa)  e a imagem contendo somente o ruído Gaussiano (que fora adicionado à imagem original no exercício anterior).\n",
        "\n",
        "   *   Dica:  Fazendo a subtração da imagem ruidosa pela imagem original, o que sobra é somente o ruído que foi adicionado.\n",
        "   \n",
        "4. Calcule a média e variância **sobre cada degrau de cinza** na imagem ruidosa e em seguida plote o gráfico de Média (Eixo X) e Variância (Eixo Y). Dicas:\n",
        "\n",
        "   * A imagem possui 400x400 pixels e cada faixa ocupa 100 pixels.\n",
        "   * Ao plotar os valores, use o plt.axis() para definir os valores mínimos e máximos dos eixos de forma a ter uma percepção melhor da diferença dos valores.\n",
        "\n",
        "5. Comente sobre o comportamento da variância em relação à média.\n"
      ]
    },
    {
      "cell_type": "code",
      "source": [
        "def InsertNoiseAWGN(img, stdNoise):\n",
        "  '''\n",
        "  Entrada:\n",
        "    - img: Imagem de entrada (uint8).\n",
        "    - stdNoise: Desvio padrão do ruído.\n",
        "\n",
        "  Saída:\n",
        "    - imgNoisy: Imagem com ruído AWGN .\n",
        "  '''\n",
        "  nRows, nCols = img.shape\n",
        "  noise =  stdNoise * np.random.normal(size=(nRows,nCols)).astype(float)\n",
        "  imgNoisy = img + noise\n",
        "  imgNoisy = imgNoisy.astype('uint8')\n",
        "  return imgNoisy\n",
        "\n",
        "# Seu código começa aqui #\n",
        "\n",
        "# Seu código termina aqui #\n",
        "\n",
        "# Comentários:\n"
      ],
      "metadata": {
        "id": "yoUu5p0m3naO"
      },
      "execution_count": null,
      "outputs": []
    },
    {
      "cell_type": "markdown",
      "source": [
        "1.2) Para realizarmos a filtragem da imagem, utilizaremos a função ```cv.fastNlMeansDenoising``` disponibilizada nas bibliotecas já carregadas. Essa função possui alguns parâmetros de entrada:\n",
        "```python\n",
        "ImgFiltrada = cv.fastNlMeansDenoising(ImgRuidosa, h, search_window , block_size)\n",
        "```\n",
        "<br>em que h está relacionado com o desvio padrão do ruído na imagem ruidosa, *search_window* é o tamanho da janela de busca e *block_size* o tamanho da janela para matriz de pesos.\n",
        "\n",
        "1. Faça a filtragem utilizando a função explicada acima. Nesta etapa, utilize h = 7 (desvio padrão do ruído Gaussiano aplicado na imagem), search_window = 7 e  block_size = 4. </br>\n",
        "\n",
        "2. Mostre lado a lado, a imagem filtrada e a imagem ruidosa.\n",
        "\n",
        "\n",
        "3. Calcule e mostre a relação sinal ruído (*Signal to Noise Ratio* - SNR) dividindo a média do sinal (μ) pelo desvio padrão (σ) para **cada uma das quatro regiões**. Fazer este cálculo tanto para imagem filtrada quanto para a imagem ruidosa.\n",
        "$$ SNR = \\dfrac{μ}{σ}$$\n",
        "\n",
        "4.  Calcule o ganho de qualidade da imagem por meio da divisão entre o SNR depois da filtragem com o antes da filtragem. Houve algum ganho?\n",
        "$$ Ganho =\\dfrac{SRN_{depois}}{SRN_{antes}}$$"
      ],
      "metadata": {
        "id": "6J_lFMgd3B5g"
      }
    },
    {
      "cell_type": "code",
      "metadata": {
        "id": "ISq5gSqGEtwv"
      },
      "source": [
        "# Seu código começa aqui #\n",
        "\n",
        "# Seu código termina aqui #\n",
        "\n",
        "# Comentários:"
      ],
      "execution_count": null,
      "outputs": []
    },
    {
      "cell_type": "markdown",
      "metadata": {
        "id": "TwwGkNZmTZMi"
      },
      "source": [
        "### 2) Filtragem do Ruído dependente do sinal (Poisson) (3.0/10.0)\n",
        "\n",
        "Agora vamos trabalhar com um tipo de ruído que possui dependência com sinal: o ruído Poisson.\n",
        "\n",
        "<center><img src=\"https://raw.githubusercontent.com/LAVI-USP/SEL0449-SEL5895_2024/main/imagens/pratica_07/RuidoPoisson.gif\" style=\"width:836px;height:266px;\" width=\"980\" height=\"300\"></center>\n",
        "\n",
        "<center><caption><b> Figura 1:</b> Imgens degradadas com diferentes níveis de ruído Poisson.</b></caption></center>\n",
        "\n",
        "Esse ruído é comumente encontrado em dispositivos que se valem da contagem de fótons para a aquisição de imagem, como por exemplo exames de raios X (mamografia, tomografia, fluoroscopia e etc). De forma geral, quanto mais fótons contados pelos detectores, maior será o valor de intensidade do pixel. Contudo, devido à variação no número de fótons detectados, o valor de um pixel é influenciado por uma degradação cuja variância é proporcional à intensidade de luz captada por aquele pixel.\n",
        "\n",
        "2.1) Para entendermos melhor esse tipo de ruído, siga as instruções abaixo:\n",
        "\n",
        "1. Insira ruído Poisson na imagem degrau. Para isso vamos usar uma função de nome ```InsertNoisePoisson```. Já disponibilizamos o escopo da função e uma descrição das entradas e saídas. Comente o que cada linha da função está exercendo.\n",
        "2. Mostre, lado a lado, a imagem original, a imagem degradada e a imagem contendo somente o ruído Poisson (que fora adicionado à imagem original). Uma sugestão é plotar o ruído sem estabelecer o vmin e vmax para facilitar a visualização.\n",
        "3. Calcule a média e variância sobre cada degrau de cinza para a imagem ruidosa. Em seguida plote o gráfico de Média (Eixo X) e Variância (Eixo Y).\n",
        "4. Comente sobre o comportamento da variância em relação à média. Faça um comparativo em relação ao exercício 1.1 ."
      ]
    },
    {
      "cell_type": "code",
      "source": [
        "def InsertNoisePoisson(img):\n",
        "  '''\n",
        "  Entrada:\n",
        "    - img: Imagem de entrada (uint8).\n",
        "\n",
        "  Saída:\n",
        "    - imgNoisy: Imagem com ruído Poisson .\n",
        "  '''\n",
        "  nRows, nCols = img.shape\n",
        "  poissonNoise = np.sqrt(1*img)*np.random.normal(size=(nRows,nCols))\n",
        "  imgNoisy = img + poissonNoise\n",
        "\n",
        "  return imgNoisy\n",
        "\n",
        "# Seu código começa aqui #\n",
        "\n",
        "\n",
        "# Seu código termina aqui #\n",
        "\n",
        "# Comentários:\n"
      ],
      "metadata": {
        "id": "W2NjyAQh-ue3"
      },
      "execution_count": null,
      "outputs": []
    },
    {
      "cell_type": "markdown",
      "source": [
        "2.2) Utilizando a função “cv.fastNlMeansDenoising”, com os mesmos parâmetros de filtragem da questão 1.2 :\n",
        "\n",
        "1. Faça a filtragem da imagem. Atenção para o tipo de dado da imagem. A função só aceita imagens do tipo 'uint8'. Certifique-se que a iamgem ruidosa passada como entrada para a função é deste tipo, caso contrário, converta a imagem antes.\n",
        "```python\n",
        "ImgFiltrada = cv.fastNlMeansDenoising(ImgRuidosa, 7, 7, 4)\n",
        "```\n",
        "\n",
        "2. Mostre lado a lado, a imagem filtrada e a ruidosa.\n",
        "\n",
        "3. Calcule e mostre a relação sinal ruído (*Signal Noise Ratio* - SNR) dividindo a média do sinal (μ) pelo desvio padrão (σ) para cada uma das quatro regiões. Fazer esse cálculo tanto para imagem filtrada quanto para a imagem ruidosa.\n",
        "\n",
        "4.  Calcule o ganho de qualidade da imagem por meio da divisão entre o SNR depois da filtragem com o antes da filtragem. O que se pode concluir ao comparar com o resultado do item 4 da questão 1.2?\n"
      ],
      "metadata": {
        "id": "i3vECWZ07xfK"
      }
    },
    {
      "cell_type": "code",
      "metadata": {
        "id": "pVlhZpnxKd9w"
      },
      "source": [
        "# Seu código começa aqui #\n",
        "\n",
        "# Seu código termina aqui #\n",
        "\n",
        "# Comentários:\n"
      ],
      "execution_count": null,
      "outputs": []
    },
    {
      "cell_type": "markdown",
      "source": [
        "### 3) Restauração de imagem com borramento e movimento (4.0/10.0)\n",
        "\n",
        "<center><img src=\"\n",
        "https://github.com/LAVI-USP/SEL0449-SEL5895_2024/raw/main/imagens/pratica_07/exercicio4.png\" width=\"750\" height=\"430\"></center>\n",
        "\n",
        "<center><caption><b> Figura 3:</b> Modelo de degradação utilizado para a construção de \"atleta_deg.tif\".</b></caption></center>\n",
        "<caption><center> </center></caption>\n",
        "\n",
        "A imagem foi degradada por uma função de espalhamento de ponto e movimento construídos a partir das seguintes equações:\n",
        "\n",
        "$$ 𝐻(𝑢,𝑣)=H_{blur}(u,v).H_{motion}(u,v) $$\n",
        "\n",
        "$$ H_{blur}(u,v)=exp(−𝑘(𝑢^{2}+𝑣^{2})^{5/6}) $$\n",
        "\n",
        "$$ H_{motion}(u,v) = 𝛾 . sinc(𝛼u + 𝛽v).exp(-j \\pi(𝛼u + 𝛽v) ) $$\n",
        "\n",
        "Sendo $𝑘=5.10^{−5}$, $𝛼=−6.10^{−3}$, $𝛽=4.10^{−3}$ e $𝛾=1$. A imagem foi também corrompida por ruído aditivo gaussiano com variância igual a $𝜎^{2}≅6,5$. Diante disso, siga os passos abaixo:\n",
        "\n",
        "1. Carregue a imagem \"atleta.tif\"\n",
        "2. Agora, carregue a matriz de degradação \"H\" que será aplicada na imagem. Para isso, utilizaremos a função \"loadmat\" disponibilizada na biblioteca \"scipy.io\". Utilize as linhas de código abaixo para realizar esse procedimento:\n",
        "```python\n",
        "DegradBlurMotion = loadmat('H.mat')\n",
        "H = DegradBlurMotion['H']\n",
        "```\n",
        "3. Utilize a função ```InsertDegMotion``` fornecida logo abaixo para aplicar  a degradação de borramento (Blur) e movimento na imagem, utilizando a matriz de degração \"$H$\" carregada no item anterior. A função já está pronta, apenas comente as linhas de código da função ```InsertDegMotion``` para mostrar que você entendeu o que ela faz.\n",
        "4. Mostre a imagem degradada e original lado a lado.\n",
        "5. Aplique a transformada de Fourier na imagem degradada. Nesse momento, é importante a utilização do PADDING antes da transformada de Fourier. Para fins de padronização, utilize o padding simétrico de acordo com o código abaixo:\n",
        "```python\n",
        "img_pad = np.pad(img, (256, 256), 'symmetric')\n",
        "imgPaddingF = np.fft.fft2(img_pad)\n",
        "fshift = np.fft.fftshift(imgPaddingF)\n",
        "```\n",
        "6. Restaure a imagem degradada no domínio da frequência utilizando filtro inverso não limitado.\n",
        "7. Visualize a imagem restaurada no item 3.6. e sua versão original. Comentar os resultados.\n",
        "8. Restaure a imagem degradada utilizando filtro inverso limitado com frequências de corte iguais a 100 e 50. Pode-se limitar o filtro inverso implementando 𝐻(𝑢,𝑣)=1 para todas as frequências maiores que a determinada frequência de corte.\n",
        "9. Visualizar as imagens restauradas e sua versão não degradada. Comentar os resultados;\n",
        "10. Restaure a imagem degradada utilizando filtro de Wiener com parâmetro $𝐾=3.10^{-3}$. Abaixo, segue a fórmula do filtro:\n",
        "\n",
        "$$ Img_{Wiener}(u,v) = I(u,v).H_{Wiener}(u,v)$$\n",
        "\n",
        "$$ H_{Wiener}(u,v) =  \\frac{1}{|H(u,v)|}. \\frac{|H(u,v)|^{2}}{(|H(u,v)|^{2} + K)}       $$\n",
        "\n",
        "em que $H(u,v)$ é a função degradação.\n",
        "\n",
        "   *   Dica:  O módulo de um número complexo também pode ser obtido a partir da multiplicação pelo seu complexo conjugado, isto é, dado $z ∈ C$ tem-se:$$|z|^2 = z \\cdot \\overline{z}$$\n",
        "A função ```np.conj``` retorna o conjugado de um número complexo.\n",
        "\n",
        "11. Comente sobre a diferenças de resultado no processo de filtragem do item 3.8 e 3.10.\n",
        "\n",
        "\n"
      ],
      "metadata": {
        "id": "PdOXh2Ej9wgX"
      }
    },
    {
      "cell_type": "code",
      "source": [
        "def InsertDegMotion(img,H):\n",
        "  '''\n",
        "  Entrada:\n",
        "    - img: Imagem de entrada.\n",
        "\n",
        "  Saída:\n",
        "    - imgNoisy: Imagem degradada.\n",
        "  '''\n",
        "  nRowsOri, nColsOri = img.shape\n",
        "  imgPadd = np.pad(img, (256, 256), 'symmetric')\n",
        "  imgF = np.fft.fft2(imgPadd)\n",
        "  fshift = np.fft.fftshift(imgF)\n",
        "  ImgDregF = fshift*H\n",
        "  f_inverse = np.fft.ifftshift(ImgDregF)\n",
        "  imgDreg = np.fft.ifft2(f_inverse)\n",
        "  imgDreg = np.abs(imgDreg[255:767,255:767])\n",
        "  imgDreg = imgDreg.astype('uint8')\n",
        "  noise =  np.sqrt(6.5)*np.random.normal(size=(nRowsOri,nColsOri)).astype(float)\n",
        "  imgDreg = imgDreg + noise\n",
        "  return imgDreg\n",
        "\n",
        "## -- Seu código começa AQUI -- ##\n",
        "\n",
        "\n",
        "## -- Seu código termina AQUI -- ##\n",
        "\n",
        "## Comentários:"
      ],
      "metadata": {
        "id": "0AhCWcedBNCJ"
      },
      "execution_count": null,
      "outputs": []
    }
  ]
}
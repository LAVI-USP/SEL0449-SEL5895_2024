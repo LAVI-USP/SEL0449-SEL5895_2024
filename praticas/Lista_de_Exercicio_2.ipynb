{
  "nbformat": 4,
  "nbformat_minor": 0,
  "metadata": {
    "colab": {
      "provenance": [],
      "collapsed_sections": [
        "NyvxHviMpShq"
      ]
    },
    "kernelspec": {
      "name": "python3",
      "display_name": "Python 3"
    }
  },
  "cells": [
    {
      "cell_type": "markdown",
      "metadata": {
        "id": "kGlmyFQMaR-U"
      },
      "source": [
        "# Lista de Exercício 2\n",
        "### Introdução ao Processamento Digital de Imagens (SEL0449/SEL5895)\n",
        "\n",
        "**Instruções:**\n",
        "\n",
        " 1. Esta lista consiste em 3 exercícios.\n",
        " 1. Deve-se colocar comentários nos códigos desenvolvidos.\n",
        " 1. As perguntas devem ser respondidas também como comentários no arquivo.\n",
        " 1. Colocar seu nome e número USP abaixo.\n",
        " 1. Quaisquer problemas na execução das listas, entrar em contato com os monitores.\n",
        " 1. Depois de terminados os exercícios, deve ser gerado um arquivo **extensão .ipynb** para ser enviado ao professor pelo E-DISCIPLINAS da disciplina até a data máxima de entrega.\n",
        " 1. Caso não seja enviado - ou identifique-se cópia - o aluno ficará sem nota.\n",
        "\n",
        "\n",
        "---\n",
        "\n",
        "\n",
        "\n",
        " <table class=\"tfo-notebook-buttons\" align=\"left\">\n",
        "  <td>\n",
        "    <a target=\"_blank\" href=\"https://colab.research.google.com/github/LAVI-USP/SEL0449-SEL5895_2024/blob/main/praticas/Lista_de_Exercicio_2.ipynb\"><img src=\"https://www.tensorflow.org/images/colab_logo_32px.png\" />Executar no Google Colab</a>\n",
        "  </td>\n",
        "  <td>\n",
        "    <a target=\"_blank\" href=\"https://github.com/LAVI-USP/SEL0449-SEL5895_2024/blob/main/praticas/Lista_de_Exercicio_2.ipynb\"><img src=\"https://www.tensorflow.org/images/GitHub-Mark-32px.png\" />Ver codigo fonte no GitHub</a>\n",
        "  </td>\n",
        "</table>\n",
        "\n"
      ]
    },
    {
      "cell_type": "markdown",
      "metadata": {
        "id": "L3qYz1dB-tlT"
      },
      "source": [
        "`Nome: `\n",
        "\n",
        "`Número USP: `"
      ]
    },
    {
      "cell_type": "markdown",
      "metadata": {
        "id": "b9uBe7nevota"
      },
      "source": [
        "### Introdução:\n",
        "\n",
        "Nesta lista serão abordados os temas resolução espacial e resolução de escala de cinza.\n",
        "\n",
        "Vamos importar as bibliotecas necessárias:"
      ]
    },
    {
      "cell_type": "code",
      "metadata": {
        "id": "xnKV2As4aCX1"
      },
      "source": [
        "import cv2 as cv\n",
        "import matplotlib.pyplot as plt\n",
        "import numpy as np"
      ],
      "execution_count": null,
      "outputs": []
    },
    {
      "cell_type": "markdown",
      "metadata": {
        "id": "NyvxHviMpShq"
      },
      "source": [
        "#### **Atenção**: os códigos abaixo são para fazer o download das imagens (EXECUTE-OS). Os mesmos não fazem parte desta prática."
      ]
    },
    {
      "cell_type": "code",
      "metadata": {
        "id": "Amk5CM273Afp"
      },
      "source": [
        "import urllib.request\n",
        "try:\n",
        "  urllib.request.urlretrieve(\"https://github.com/LAVI-USP/SEL0449-SEL5895_2024/raw/main/imagens/pratica_02/angiography.tif\", \"angiography.tif\")\n",
        "except:\n",
        "  print(\"[ERRO] Não foi possível fazer o download das imagens dessa prática. Entre em contato com o monitor\")\n",
        "\n",
        "try:\n",
        "  urllib.request.urlretrieve(\"https://github.com/LAVI-USP/SEL0449-SEL5895_2024/raw/main/imagens/pratica_02/peppers.bmp\", \"peppers.bmp\")\n",
        "except:\n",
        "  print(\"[ERRO] Não foi possível fazer o download das imagens dessa prática. Entre em contato com o monitor\")\n",
        "\n",
        "try:\n",
        "  urllib.request.urlretrieve(\"https://github.com/LAVI-USP/SEL0449-SEL5895_2024/raw/main/imagens/pratica_02/ruler.jpg\", \"ruler.jpg\")\n",
        "except:\n",
        "  print(\"[ERRO] Não foi possível fazer o download das imagens dessa prática. Entre em contato com o monitor\")"
      ],
      "execution_count": null,
      "outputs": []
    },
    {
      "cell_type": "markdown",
      "metadata": {
        "id": "ppupxqIr71zm"
      },
      "source": [
        "### 1) Resolução espacial (peso 3/10)\n",
        "\n",
        "1. Carregue o arquivo de imagem ```peppers.bmp``` e mostre seu tamanho.\n",
        "2. Agora, vamos utilizar a função [cv.resize](https://docs.opencv.org/2.4/modules/imgproc/doc/geometric_transformations.html#void%20resize(InputArray%20src,%20OutputArray%20dst,%20Size%20dsize,%20double%20fx,%20double%20fy,%20int%20interpolation)) para mudar a resolução espacial da imagem lida. Pesquise sobre essa função e utilize-a para reduzir o tamanho da imagem para:\n",
        "\n",
        "  - ```320x320```\n",
        "  - ```185x185```\n",
        "  - ```115x115```\n",
        "  - ```68x68```\n",
        "  - ```32x32```\n",
        "  \n",
        "3. Mostre todas as imagens usando janelas do mesmo tamanho. Lembre-se que o tamanho real da imagem foi definido no item anterior com *cv.resize*, mas você pode escolher qual o tamanho mostrar na tela, em polegadas (a imagem será ajustada para se adequar ao tamanho escolhido). Para isto, faremos uso do *figsize* juntamente com *subplot*.\n",
        "\n",
        "4. Comente os resultados.\n",
        "\n",
        "**Dica:** Use o argumento *figsize* em ```plt.figure(figsize=(largura,altura))```, sendo largura e altura dadas em polegadas. Um bom número para se trabalhar é de 5 polegadas por imagem, assim em um plot de 1 linha por 5 colunas, uma sugestão seria utilizar ```plt.figure(figsize=(25,5))```."
      ]
    },
    {
      "cell_type": "code",
      "metadata": {
        "id": "v3zOxtTSjJh8"
      },
      "source": [
        "# Seu código começa aqui\n",
        "\n",
        "# Seu código termina aqui"
      ],
      "execution_count": null,
      "outputs": []
    },
    {
      "cell_type": "markdown",
      "metadata": {
        "id": "OcMh8xfE_EDX"
      },
      "source": [
        "### 2) Resolução de escala de cinza (peso 3/10)\n",
        "\n",
        "1. Agora vamos reduzir a resolução de níveis de cinza da imagem. Para isto, vamos usar uma função de nome ```transformaImg```, já disponibilizada a seguir. Comente o que cada linha da função está exercendo.\n",
        "\n",
        "2. Carregue o arquivo de imagem ```angiography.tif``` e mostre a imagem. Limite os valores máximo e mínimo do seu plot para ```vmin=0``` e ```vmax=255```.\n",
        "\n",
        "3. Reduza a escala de níveis de cinza da imagem ```angiography.tif``` de 256 níveis para a resoluções abaixo. Mostre todas as imagens usando janelas de mesmo tamanho, assim como foi feito/explicado no exercício anterior. Limite os valores máximo e mínimo do seu plot para ```vmin=0``` e ```vmax=255```.\n",
        "\n",
        "  - 128\n",
        "  - 64\n",
        "  - 16\n",
        "  - 4\n",
        "  - 2\n",
        "  \n",
        "\n",
        "4. Comente os resultados obtidos.\n",
        "\n",
        "5. Explique:\n",
        "  * Qual o motivo da transformação da variável img para ```float32``` no início da função dada?\n",
        "  * Qual o motivo da linha ```res = 255*(res - res.min())/(res.max() - res.min())``` antes do retorno para ```uint8```?"
      ]
    },
    {
      "cell_type": "code",
      "metadata": {
        "id": "7ijwVq_bieYM"
      },
      "source": [
        "#1\n",
        "def transformaImg(img, grayLevel):\n",
        "  '''\n",
        "  Descrição: Transforma uma imagem para uma nova escala de cinza.\n",
        "\n",
        "  Entrada:\n",
        "    - img: Imagem de entrada (uint8).\n",
        "    - grayLevel: Nova escala de níveis de cinza desejada (uint8).\n",
        "\n",
        "  Saída:\n",
        "    - res: Imagem com nova escala de cinza (uint8)\n",
        "  '''\n",
        "\n",
        "  img_in = img.copy().astype('float32')\n",
        "\n",
        "  res = np.round( img_in * (grayLevel - 1) / 255.)\n",
        "\n",
        "  res = 255*(res - res.min())/(res.max() - res.min())\n",
        "\n",
        "  res = res.astype('uint8')\n",
        "\n",
        "  return res\n",
        "\n",
        "# Seu código começa aqui\n",
        "\n",
        "# Seu código termina aqui"
      ],
      "execution_count": null,
      "outputs": []
    },
    {
      "cell_type": "markdown",
      "metadata": {
        "id": "5A1nGUXRLJRZ"
      },
      "source": [
        "### 3) Resolução espacial em *dots per inch* (DPI) (peso 4/10)\n",
        "\n",
        "1. Nós temos no laboratório um *scanner* cuja escala, em DPI, queremos descobrir. Escaneamos uma régua e disponibilizamos a imagem ```ruler.jpg``` (fator de escala 1:1).\n",
        "  \n",
        "  Leia a imagem e mostre seu shape. Qual a resolução espacial, em DPI, desse *scanner*? **Comente os cálculos realizados.**"
      ]
    },
    {
      "cell_type": "code",
      "metadata": {
        "id": "ghO24YN_Va1c"
      },
      "source": [
        "# Seu código começa aqui\n",
        "\n",
        "# Seu código termina aqui\n",
        "\n",
        "#Comentários:"
      ],
      "execution_count": null,
      "outputs": []
    },
    {
      "cell_type": "markdown",
      "metadata": {
        "id": "UwovOaPtUIFf"
      },
      "source": [
        "### **Curiosidade:** usando um \"slider\" para escolher valores\n",
        "\n",
        "É possível criar uma animação com um \"slider\" para escolher valores de entrada para uma dada variável. Veja:"
      ]
    },
    {
      "cell_type": "code",
      "source": [
        "#@title Exemplo - Resolução de níveis de cinza { run: \"auto\" }\n",
        "\n",
        "grayLevel = 256 #@param {type:\"slider\", min:0, max:256, step:1}\n",
        "\n",
        "img = np.arange(0,grayLevel, dtype='uint8')\n",
        "img = np.tile(img, (img.shape[0],1))\n",
        "\n",
        "plt.figure(figsize = (5,5))\n",
        "plt.imshow(img, 'gray')"
      ],
      "metadata": {
        "colab": {
          "base_uri": "https://localhost:8080/",
          "height": 467
        },
        "id": "-sKtu_5AcbzH",
        "outputId": "70d70e53-a4f7-42b2-f47a-a8f700067f59"
      },
      "execution_count": null,
      "outputs": [
        {
          "output_type": "execute_result",
          "data": {
            "text/plain": [
              "<matplotlib.image.AxesImage at 0x7ebcde3a30a0>"
            ]
          },
          "metadata": {},
          "execution_count": 14
        },
        {
          "output_type": "display_data",
          "data": {
            "text/plain": [
              "<Figure size 500x500 with 1 Axes>"
            ],
            "image/png": "[encoded data removed]"
          },
          "metadata": {}
        }
      ]
    },
    {
      "cell_type": "markdown",
      "source": [
        "### **Extra (opcional):**\n",
        "Você pode tentar criar uma animação que modifique a resolução espacial da imagem conforme o usuário mude o slider."
      ],
      "metadata": {
        "id": "YH5lCs1vdcNR"
      }
    },
    {
      "cell_type": "code",
      "source": [
        "#@title Extra - Resolução Espacial { run: \"auto\" }\n",
        "\n",
        "img = cv.imread(\"peppers.bmp\", cv.IMREAD_GRAYSCALE)\n",
        "\n",
        "new_res = 34 #@param {type:\"slider\", min:0, max:480, step:1}\n",
        "\n",
        "#Redimensione a imagem para a nova resolução escolhida (new_res, new_res)\n",
        "# Seu código começa aqui\n",
        "img_resized =\n",
        "# Seu código termina aqui\n",
        "\n",
        "plt.figure(figsize = (5,5))\n",
        "plt.title(\"Resolução Espacial {}\".format(img_resized.shape))\n",
        "plt.imshow(img_resized,'gray')\n",
        "plt.show()"
      ],
      "metadata": {
        "id": "obA0Cw0kEBYt"
      },
      "execution_count": null,
      "outputs": []
    }
  ]
}
